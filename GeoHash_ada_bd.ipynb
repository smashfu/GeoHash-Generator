{
 "cells": [
  {
   "cell_type": "code",
   "execution_count": 34,
   "metadata": {},
   "outputs": [],
   "source": [
    "import numpy as np\n",
    "import pygeohash as gh\n",
    "import pandas as pd\n",
    "\n",
    "\n",
    "class GeoHash_ada_bd:\n",
    "    def __init__(self):\n",
    "        pass\n",
    "\n",
    "    def v_up(self, start_lat, fixed_lng, stop_lat):\n",
    "        gap = 0.001375\n",
    "        start_lat = start_lat + (gap / 2)\n",
    "        stop_lat = stop_lat - (gap / 2)\n",
    "        lat_list = np.arange(start_lat, stop_lat, gap)\n",
    "        print(lat_list)\n",
    "        print(len(lat_list))\n",
    "        if len(lat_list) == 0:\n",
    "            lat_list = [(start_lng+stop_lng)/2]\n",
    "            print(lat_list)\n",
    "        hash_list = []\n",
    "        for lat in lat_list:\n",
    "            hash_list.append(gh.encode(lat, fixed_lng, precision=7))\n",
    "        return hash_list\n",
    "\n",
    "    def h_right(self, fixed_lat, start_lng, stop_lng):\n",
    "        gap = 0.001375\n",
    "        start_lng = start_lng + (gap / 2)\n",
    "        stop_lng = stop_lng - (gap / 2)\n",
    "        lng_list = np.arange(start_lng, stop_lng, gap)\n",
    "        print(lng_list)\n",
    "        print(len(lng_list))\n",
    "        if len(lng_list) == 0:\n",
    "            lng_list = [(start_lng+stop_lng)/2]\n",
    "            print(lng_list)\n",
    "        hash_list = []\n",
    "        for lng in lng_list:\n",
    "            hash_list.append(gh.encode(fixed_lat, lng, precision=7))\n",
    "        return hash_list"
   ]
  },
  {
   "cell_type": "code",
   "execution_count": 45,
   "metadata": {
    "scrolled": true
   },
   "outputs": [
    {
     "name": "stdout",
     "output_type": "stream",
     "text": [
      "[90.4025285 90.4039035 90.4052785 90.4066535]\n",
      "4\n",
      "       0\n",
      " wh0r3hj\n",
      " wh0r3hn\n",
      " wh0r3hp\n",
      " wh0r3k0\n"
     ]
    }
   ],
   "source": [
    "o = GeoHash_ada_bd()\n",
    "result=o.h_right(23.797630, 90.401841, \n",
    "                 90.407506)\n",
    "df = pd.DataFrame(result)\n",
    "print(df.to_string(index=False))"
   ]
  },
  {
   "cell_type": "code",
   "execution_count": null,
   "metadata": {},
   "outputs": [],
   "source": []
  }
 ],
 "metadata": {
  "kernelspec": {
   "display_name": "Python 3",
   "language": "python",
   "name": "python3"
  },
  "language_info": {
   "codemirror_mode": {
    "name": "ipython",
    "version": 3
   },
   "file_extension": ".py",
   "mimetype": "text/x-python",
   "name": "python",
   "nbconvert_exporter": "python",
   "pygments_lexer": "ipython3",
   "version": "3.7.6"
  }
 },
 "nbformat": 4,
 "nbformat_minor": 4
}
